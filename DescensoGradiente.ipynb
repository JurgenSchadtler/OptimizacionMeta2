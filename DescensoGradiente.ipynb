{
  "nbformat": 4,
  "nbformat_minor": 0,
  "metadata": {
    "colab": {
      "name": "DescensoGradiente.ipynb",
      "provenance": [],
      "authorship_tag": "ABX9TyME8Ko/b1/o2XVcn+9QZMkE",
      "include_colab_link": true
    },
    "kernelspec": {
      "name": "python3",
      "display_name": "Python 3"
    },
    "language_info": {
      "name": "python"
    }
  },
  "cells": [
    {
      "cell_type": "markdown",
      "metadata": {
        "id": "view-in-github",
        "colab_type": "text"
      },
      "source": [
        "<a href=\"https://colab.research.google.com/github/JurgenSchadtler/OptimizacionMeta2/blob/main/DescensoGradiente.ipynb\" target=\"_parent\"><img src=\"https://colab.research.google.com/assets/colab-badge.svg\" alt=\"Open In Colab\"/></a>"
      ]
    },
    {
      "cell_type": "code",
      "metadata": {
        "id": "6S03TjBcYuu6"
      },
      "source": [
        "import numpy as np\n",
        "import matplotlib.pyplot as plt\n",
        "from mpl_toolkits.mplot3d import Axes3D"
      ],
      "execution_count": null,
      "outputs": []
    },
    {
      "cell_type": "code",
      "metadata": {
        "id": "8AWINQUMZN5K"
      },
      "source": [
        "xp = np.random.uniform(-10,10,(100))\n",
        "yp = 10*xp + 100 + np.random.normal(0,4,(100))"
      ],
      "execution_count": null,
      "outputs": []
    },
    {
      "cell_type": "code",
      "metadata": {
        "colab": {
          "base_uri": "https://localhost:8080/",
          "height": 282
        },
        "id": "5UktBB-8ZvLr",
        "outputId": "2749cb8d-e7e1-47c2-f16d-2a4b2ddf02b3"
      },
      "source": [
        "plt.figure()\n",
        "plt.scatter(xp,yp)\n",
        "plt.plot()"
      ],
      "execution_count": null,
      "outputs": [
        {
          "output_type": "execute_result",
          "data": {
            "text/plain": [
              "[]"
            ]
          },
          "metadata": {
            "tags": []
          },
          "execution_count": 9
        },
        {
          "output_type": "display_data",
          "data": {
            "image/png": "[encoded data removed]",
            "text/plain": [
              "<Figure size 432x288 with 1 Axes>"
            ]
          },
          "metadata": {
            "tags": [],
            "needs_background": "light"
          }
        }
      ]
    },
    {
      "cell_type": "code",
      "metadata": {
        "colab": {
          "base_uri": "https://localhost:8080/",
          "height": 265
        },
        "id": "CQbDAB2Pa5Oi",
        "outputId": "bb281e46-6488-4e6e-81ee-29129547f96e"
      },
      "source": [
        "#Graficar una linea y los puntos\n",
        "def graficar(P,xp,yp):\n",
        "    m,b = X\n",
        "    plt.figure()\n",
        "    plt.scatter(xp,yp)\n",
        "    plt.plot([-10,10],[-10*m+b,10*m+b],c='red')\n",
        "    plt.show()\n",
        "m = 0\n",
        "b = 0\n",
        "X = [m,b]\n",
        "graficar(X,xp,yp)    \n"
      ],
      "execution_count": null,
      "outputs": [
        {
          "output_type": "display_data",
          "data": {
            "image/png": "[encoded data removed]",
            "text/plain": [
              "<Figure size 432x288 with 1 Axes>"
            ]
          },
          "metadata": {
            "tags": [],
            "needs_background": "light"
          }
        }
      ]
    }
  ]
}